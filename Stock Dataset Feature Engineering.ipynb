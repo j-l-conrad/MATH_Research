{
 "cells": [
  {
   "cell_type": "code",
   "execution_count": 164,
   "id": "389406ad",
   "metadata": {},
   "outputs": [],
   "source": [
    "import numpy as np\n",
    "import pandas as pd\n",
    "\n",
    "# Data retrieved from 'Huge Stock Market Dataset'\n",
    "# https://www.kaggle.com/datasets/borismarjanovic/price-volume-data-for-all-us-stocks-etfs\n",
    "\n",
    "# The variable to be predicted will be the next day's maximum"
   ]
  },
  {
   "cell_type": "code",
   "execution_count": 165,
   "id": "57686993",
   "metadata": {},
   "outputs": [],
   "source": [
    "# Read data\n",
    "\n",
    "SPY = pd.read_csv('spy.us.txt')\n",
    "SCHD = pd.read_csv('schd.us.txt')\n",
    "VUG = pd.read_csv('vug.us.txt')\n",
    "\n",
    "SPY = SPY.drop(columns = 'OpenInt')\n",
    "SCHD = SCHD.drop(columns = 'OpenInt')\n",
    "VUG = VUG.drop(columns = 'OpenInt')"
   ]
  },
  {
   "cell_type": "code",
   "execution_count": 166,
   "id": "bb24661e",
   "metadata": {},
   "outputs": [],
   "source": [
    "# RSI is the 'relative strength index'\n",
    "def rsi(values):\n",
    "    up = values[values>0].mean()\n",
    "    down = -1*values[values<0].mean()\n",
    "    return 100 * up / (up + down)\n",
    "\n",
    "# Adding previous day change\n",
    "SPY['Momentum1D'] = (SPY['Close']-SPY['Close'].shift(1)).fillna(0)\n",
    "SCHD['Momentum1D'] = (SCHD['Close']-SCHD['Close'].shift(1)).fillna(0)\n",
    "VUG['Momentum1D'] = (VUG['Close']-VUG['Close'].shift(1)).fillna(0)\n",
    "\n",
    "# Adding 14-day RSI to dataframes\n",
    "SPY['RSI14D'] = SPY['Momentum1D'].rolling(center=False, window=14).apply(rsi).fillna(0)\n",
    "SCHD['RSI14D'] = SCHD['Momentum1D'].rolling(center=False, window=14).apply(rsi).fillna(0)\n",
    "VUG['RSI14D'] = VUG['Momentum1D'].rolling(center=False, window=14).apply(rsi).fillna(0)"
   ]
  },
  {
   "cell_type": "code",
   "execution_count": 167,
   "id": "785e9b3f",
   "metadata": {},
   "outputs": [],
   "source": [
    "# Creating Bollinger Bands and adding them to dataframes\n",
    "\n",
    "def bbands(price, length, z):\n",
    "    mu = price.rolling(window = length, center = False).mean()\n",
    "    sigma = price.rolling(window = length, center = False).std()\n",
    "    upperband = mu + (sigma*z)\n",
    "    lowerband = mu - (sigma*z)\n",
    "    return mu, upperband, lowerband\n",
    "\n",
    "SPY['MiddleBB'], SPY['UpperBB'], SPY['LowerBB'] = bbands(SPY['Close'], length=20, z=1)\n",
    "SCHD['MiddleBB'], SCHD['UpperBB'], SCHD['LowerBB'] = bbands(SCHD['Close'], length=20, z=1)\n",
    "VUG['MiddleBB'], VUG['UpperBB'], VUG['LowerBB'] = bbands(VUG['Close'], length=20, z=1)\n",
    "\n",
    "SPY = SPY.fillna(0)\n",
    "SCHD = SCHD.fillna(0)\n",
    "VUG = VUG.fillna(0)"
   ]
  },
  {
   "cell_type": "code",
   "execution_count": 168,
   "id": "517cf159",
   "metadata": {},
   "outputs": [],
   "source": [
    "# Finding the 1 day price/volume trend\n",
    "\n",
    "SPY['PVT'] = (SPY['Momentum1D'] / SPY['Close'].shift(1)) * SPY['Volume']\n",
    "SPY['PVT'] = SPY['PVT'] - SPY['PVT'].shift(1)\n",
    "SPY = SPY.fillna(0)\n",
    "\n",
    "SCHD['PVT'] = (SCHD['Momentum1D'] / SCHD['Close'].shift(1)) * SCHD['Volume']\n",
    "SCHD['PVT'] = SCHD['PVT'] - SCHD['PVT'].shift(1)\n",
    "SCHD = SCHD.fillna(0)\n",
    "\n",
    "VUG['PVT'] = (VUG['Momentum1D'] / VUG['Close'].shift(1)) * VUG['Volume']\n",
    "VUG['PVT'] = VUG['PVT'] - VUG['PVT'].shift(1)\n",
    "VUG = VUG.fillna(0)"
   ]
  },
  {
   "cell_type": "code",
   "execution_count": 169,
   "id": "6407513e",
   "metadata": {},
   "outputs": [],
   "source": [
    "# Calculating the one-week price rate of change\n",
    "\n",
    "SPY['PROC'] = 100*(SPY['Close'] - SPY['Close'].shift(5)) / SPY['Close'].shift(5)\n",
    "SCHD['PROC'] = 100*(SCHD['Close'] - SCHD['Close'].shift(5)) / SCHD['Close'].shift(5)\n",
    "VUG['PROC'] = 100*(VUG['Close'] - VUG['Close'].shift(5)) / VUG['Close'].shift(5)\n",
    "\n",
    "SPY = SPY.fillna(0)\n",
    "SCHD = SCHD.fillna(0)\n",
    "VUG = VUG.fillna(0)"
   ]
  },
  {
   "cell_type": "code",
   "execution_count": 170,
   "id": "258a64d6",
   "metadata": {},
   "outputs": [],
   "source": [
    "# Money flow index\n",
    "\n",
    "def mfi(df):\n",
    "    df['Typical Price'] = (df['High']+df['Low']+df['Close'])/3\n",
    "    df['+ MF'] = np.where(df['Typical Price'] > df['Typical Price'].shift(1), df['Typical Price'], 0)\n",
    "    df['- MF'] = np.where(df['Typical Price'] < df['Typical Price'].shift(1), df['Typical Price'], 0)\n",
    "    df['MF Ratio'] = df['+ MF'].rolling(window=14,center=False).sum()/df['- MF'].rolling(window=14,center=False).sum()\n",
    "    df['MoneyFlowIndex'] = 100 - 100 / (1 + df['MF Ratio'])\n",
    "    \n",
    "mfi(SPY)\n",
    "mfi(SCHD)\n",
    "mfi(VUG)\n",
    "\n",
    "SPY = SPY.fillna(0)\n",
    "SCHD = SCHD.fillna(0)\n",
    "VUG = VUG.fillna(0)\n",
    "\n",
    "SPY = SPY.drop(labels = ['Typical Price','+ MF','- MF','MF Ratio'], axis = 1)\n",
    "SCHD = SCHD.drop(labels = ['Typical Price','+ MF','- MF','MF Ratio'], axis = 1)\n",
    "VUG = VUG.drop(labels = ['Typical Price','+ MF','- MF','MF Ratio'], axis = 1)"
   ]
  },
  {
   "cell_type": "code",
   "execution_count": 171,
   "id": "c91b6d52",
   "metadata": {},
   "outputs": [],
   "source": [
    "# Adding the next day's high - the variable to be predicted by the neural net\n",
    "\n",
    "SPY['NextHigh'] = SPY['High'].shift(-1)\n",
    "SCHD['NextHigh'] = SCHD['High'].shift(-1)\n",
    "VUG['NextHigh'] = VUG['High'].shift(-1)\n",
    "\n",
    "SPY = SPY.fillna(0)\n",
    "SCHD = SCHD.fillna(0)\n",
    "VUG = VUG.fillna(0)"
   ]
  },
  {
   "cell_type": "code",
   "execution_count": 172,
   "id": "7183749f",
   "metadata": {},
   "outputs": [],
   "source": [
    "# Dropping rows without technical analysis indicators\n",
    "# The first 20 rows have no bollinger bands\n",
    "\n",
    "todrop = []\n",
    "for i in range(19):\n",
    "    todrop += [i]\n",
    "    \n",
    "SPY = SPY.drop(labels = todrop, axis = 0)\n",
    "SCHD = SCHD.drop(labels = todrop, axis = 0)\n",
    "VUG = VUG.drop(labels = todrop, axis = 0)"
   ]
  },
  {
   "cell_type": "code",
   "execution_count": 173,
   "id": "af2cb8c2",
   "metadata": {},
   "outputs": [],
   "source": [
    "# Dropping final row since it has no prediction variable\n",
    "\n",
    "SPY.drop(SPY.tail(1).index, inplace = True)\n",
    "SCHD.drop(SCHD.tail(1).index, inplace = True)\n",
    "VUG.drop(VUG.tail(1).index, inplace = True)"
   ]
  },
  {
   "cell_type": "code",
   "execution_count": 174,
   "id": "38036f38",
   "metadata": {},
   "outputs": [],
   "source": [
    "# Renumbering rows\n",
    "\n",
    "SPY.reset_index(inplace = True)\n",
    "SCHD.reset_index(inplace = True)\n",
    "VUG.reset_index(inplace = True)"
   ]
  },
  {
   "cell_type": "code",
   "execution_count": 175,
   "id": "39058983",
   "metadata": {},
   "outputs": [],
   "source": [
    "# Exporting dataframes as CSV files for use in other notebooks\n",
    "\n",
    "SPY.to_csv('SPY_Technical_Analysis.csv')\n",
    "SCHD.to_csv('SCHD_Technical_Analysis.csv')\n",
    "VUG.to_csv('VUG_Technical_Analysis.csv')"
   ]
  },
  {
   "cell_type": "code",
   "execution_count": null,
   "id": "444c15b3",
   "metadata": {},
   "outputs": [],
   "source": []
  }
 ],
 "metadata": {
  "kernelspec": {
   "display_name": "Python 3",
   "language": "python",
   "name": "python3"
  },
  "language_info": {
   "codemirror_mode": {
    "name": "ipython",
    "version": 3
   },
   "file_extension": ".py",
   "mimetype": "text/x-python",
   "name": "python",
   "nbconvert_exporter": "python",
   "pygments_lexer": "ipython3",
   "version": "3.8.8"
  }
 },
 "nbformat": 4,
 "nbformat_minor": 5
}
